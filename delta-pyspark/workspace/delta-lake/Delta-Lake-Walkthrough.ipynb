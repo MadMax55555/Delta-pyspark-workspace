{
 "cells": [
  {
   "cell_type": "code",
   "execution_count": 1,
   "id": "4a13de8e-29b2-48ac-bd80-0d396b6dcb1c",
   "metadata": {},
   "outputs": [],
   "source": [
    "from pyspark.sql.types import *\n",
    "from delta.tables import *"
   ]
  },
  {
   "cell_type": "code",
   "execution_count": 2,
   "id": "32010e97-a184-4460-8947-17cad953ab49",
   "metadata": {},
   "outputs": [
    {
     "name": "stderr",
     "output_type": "stream",
     "text": [
      "24/11/17 15:23:09 WARN SparkStringUtils: Truncated the string representation of a plan since it was too large. This behavior can be adjusted by setting 'spark.sql.debug.maxToStringFields'.\n",
      "                                                                                \r"
     ]
    }
   ],
   "source": [
    "data = [\n",
    " (1, \"United Kingdom\", \"London\"),\n",
    " (2, \"Canada\", \"Toronto\")\n",
    " ]\n",
    "schema = [\"id\", \"country\", \"capital\"]\n",
    "df = spark.createDataFrame(data, schema=schema)\n",
    "(\n",
    "df\n",
    ".write\n",
    ".format(\"delta\")\n",
    ".save(\"./delta-lake/countries\")\n",
    ")"
   ]
  },
  {
   "cell_type": "code",
   "execution_count": 3,
   "id": "af7493cf-59e3-4e9e-ac88-5671d7dc8708",
   "metadata": {},
   "outputs": [
    {
     "name": "stderr",
     "output_type": "stream",
     "text": [
      "                                                                                \r"
     ]
    }
   ],
   "source": [
    "data = [(3, 'United States', 'Washington, D.C.') ]\n",
    "# Define the schema for the Delta table\n",
    "schema = [\"id\", \"country\", \"capital\"]\n",
    "df = spark.createDataFrame(data, schema=schema)\n",
    "(df\n",
    ".write\n",
    ".format(\"delta\")\n",
    ".mode(\"append\")\n",
    ".save(\"./delta-lake/countries\")\n",
    ")"
   ]
  },
  {
   "cell_type": "code",
   "execution_count": 4,
   "id": "e89e75ea-398e-49f7-89d3-7f00ea1c3534",
   "metadata": {},
   "outputs": [
    {
     "name": "stdout",
     "output_type": "stream",
     "text": [
      "+---+--------------+----------------+\n",
      "| id|       country|         capital|\n",
      "+---+--------------+----------------+\n",
      "|  3| United States|Washington, D.C.|\n",
      "|  1|United Kingdom|          London|\n",
      "|  2|        Canada|         Toronto|\n",
      "+---+--------------+----------------+\n",
      "\n"
     ]
    }
   ],
   "source": [
    "delta_table = (spark\n",
    "        .read\n",
    "        .format(\"delta\")\n",
    "        .load(\"./delta-lake/countries\")\n",
    "      )\n",
    "delta_table.show()"
   ]
  },
  {
   "cell_type": "code",
   "execution_count": 5,
   "id": "fb95373b-b5f8-4125-8541-4b7707b06662",
   "metadata": {},
   "outputs": [
    {
     "name": "stdout",
     "output_type": "stream",
     "text": [
      "+---+--------------+-------+\n",
      "| id|       country|capital|\n",
      "+---+--------------+-------+\n",
      "|  1|United Kingdom| London|\n",
      "+---+--------------+-------+\n",
      "\n"
     ]
    }
   ],
   "source": [
    "delta_table.filter(delta_table.capital == 'London').show()"
   ]
  },
  {
   "cell_type": "code",
   "execution_count": 6,
   "id": "f9fdaa76-f55c-424f-ae07-e020fff91b2b",
   "metadata": {},
   "outputs": [
    {
     "name": "stdout",
     "output_type": "stream",
     "text": [
      "+---+----------------+\n",
      "| id|         capital|\n",
      "+---+----------------+\n",
      "|  3|Washington, D.C.|\n",
      "|  1|          London|\n",
      "|  2|         Toronto|\n",
      "+---+----------------+\n",
      "\n"
     ]
    }
   ],
   "source": [
    "delta_table.select(\"id\", \"capital\").show()"
   ]
  },
  {
   "cell_type": "code",
   "execution_count": 7,
   "id": "0cf95870-535d-4af1-aaff-ade51abde466",
   "metadata": {},
   "outputs": [
    {
     "name": "stderr",
     "output_type": "stream",
     "text": [
      "                                                                                \r"
     ]
    },
    {
     "name": "stdout",
     "output_type": "stream",
     "text": [
      "+---+-------------+----------------+\n",
      "| id|      country|         capital|\n",
      "+---+-------------+----------------+\n",
      "|  3|United States|Washington, D.C.|\n",
      "|  2|       Canada|         Toronto|\n",
      "|  1|         U.K.|          London|\n",
      "+---+-------------+----------------+\n",
      "\n"
     ]
    }
   ],
   "source": [
    "delta_table = DeltaTable.forPath(spark, \"./delta-lake/countries\")\n",
    "\n",
    "# Update the Delta table\n",
    "delta_table.update(\n",
    "    condition=\"id = 1\",\n",
    "    set={\"country\": \"'U.K.'\"}\n",
    ")\n",
    "\n",
    "# Show the updated table\n",
    "delta_table.toDF().show()"
   ]
  },
  {
   "cell_type": "code",
   "execution_count": 8,
   "id": "b61df50e-b0ac-45ce-93fe-cb919d135eec",
   "metadata": {},
   "outputs": [],
   "source": [
    "fullHistoryDF = delta_table.history()"
   ]
  },
  {
   "cell_type": "code",
   "execution_count": 9,
   "id": "0239c439-3347-48df-b48b-a0cc8033e688",
   "metadata": {},
   "outputs": [
    {
     "name": "stdout",
     "output_type": "stream",
     "text": [
      "+-------+--------------------+---------+-----------+-------------+\n",
      "|version|           timestamp|operation|readVersion|isBlindAppend|\n",
      "+-------+--------------------+---------+-----------+-------------+\n",
      "|      2|2024-11-17 15:23:...|   UPDATE|          1|        false|\n",
      "|      1|2024-11-17 15:23:...|    WRITE|          0|         true|\n",
      "|      0|2024-11-17 15:23:...|    WRITE|       NULL|         true|\n",
      "+-------+--------------------+---------+-----------+-------------+\n",
      "\n"
     ]
    }
   ],
   "source": [
    "fullHistoryDF[\"version\",\"timestamp\",\"operation\",\"readVersion\",\"isBlindAppend\"].show()"
   ]
  },
  {
   "cell_type": "code",
   "execution_count": 10,
   "id": "0d16f28f-64b4-42b3-b4e4-c287dd3d48a9",
   "metadata": {},
   "outputs": [
    {
     "name": "stdout",
     "output_type": "stream",
     "text": [
      "+---+-------------+----------------+\n",
      "| id|      country|         capital|\n",
      "+---+-------------+----------------+\n",
      "|  3|United States|Washington, D.C.|\n",
      "|  2|       Canada|         Toronto|\n",
      "|  1|         U.K.|          London|\n",
      "+---+-------------+----------------+\n",
      "\n"
     ]
    }
   ],
   "source": [
    "df = (spark.read.format(\"delta\")\n",
    " .option(\"versionAsOf\", 2)\n",
    " .load(\"./delta-lake/countries\"))\n",
    "df.show()"
   ]
  },
  {
   "cell_type": "code",
   "execution_count": 14,
   "id": "e9d22d6e-cac1-49eb-8e6c-f47d1f386df9",
   "metadata": {},
   "outputs": [
    {
     "name": "stdout",
     "output_type": "stream",
     "text": [
      "+---+--------------+----------------+\n",
      "| id|       country|         capital|\n",
      "+---+--------------+----------------+\n",
      "|  3| United States|Washington, D.C.|\n",
      "|  1|United Kingdom|          London|\n",
      "|  2|        Canada|         Toronto|\n",
      "+---+--------------+----------------+\n",
      "\n"
     ]
    }
   ],
   "source": [
    "df = (spark.read.format(\"delta\")\n",
    ".option(\"timestampAsOf\", \"2024-11-17 15:23:20\")\n",
    " .load(\"./delta-lake/countries\"))\n",
    "df.show()"
   ]
  },
  {
   "cell_type": "code",
   "execution_count": 15,
   "id": "01b9f511-1e10-411e-9f22-40aa7d8ac63b",
   "metadata": {},
   "outputs": [
    {
     "name": "stdout",
     "output_type": "stream",
     "text": [
      "+---+-------------+----------------+\n",
      "| id|      country|         capital|\n",
      "+---+-------------+----------------+\n",
      "|  3|United States|Washington, D.C.|\n",
      "|  1|         U.K.|          London|\n",
      "+---+-------------+----------------+\n",
      "\n"
     ]
    }
   ],
   "source": [
    "from pyspark.sql.functions import col\n",
    "\n",
    "delta_table = DeltaTable.forPath(spark, \"./delta-lake/countries\")\n",
    "delta_table.delete(col(\"id\") == 2) \n",
    "delta_table_df = delta_table.toDF()\n",
    "delta_table_df.show()"
   ]
  },
  {
   "cell_type": "code",
   "execution_count": 16,
   "id": "2a825132-c81d-4bcb-97ef-6c5f31cff990",
   "metadata": {},
   "outputs": [
    {
     "name": "stdout",
     "output_type": "stream",
     "text": [
      "+-------+--------------------+---------+-----------+-------------+\n",
      "|version|           timestamp|operation|readVersion|isBlindAppend|\n",
      "+-------+--------------------+---------+-----------+-------------+\n",
      "|      3|2024-11-17 15:24:...|   DELETE|          2|        false|\n",
      "|      2|2024-11-17 15:23:...|   UPDATE|          1|        false|\n",
      "|      1|2024-11-17 15:23:...|    WRITE|          0|         true|\n",
      "|      0|2024-11-17 15:23:...|    WRITE|       NULL|         true|\n",
      "+-------+--------------------+---------+-----------+-------------+\n",
      "\n"
     ]
    }
   ],
   "source": [
    "fullHistoryDF = delta_table.history()\n",
    "fullHistoryDF[\"version\",\"timestamp\",\"operation\",\"readVersion\",\"isBlindAppend\"].show()"
   ]
  },
  {
   "cell_type": "code",
   "execution_count": 17,
   "id": "880babe3-821d-4449-999a-9676f906c68a",
   "metadata": {},
   "outputs": [
    {
     "name": "stdout",
     "output_type": "stream",
     "text": [
      "+---+-------------+----------------+\n",
      "| id|      country|         capital|\n",
      "+---+-------------+----------------+\n",
      "|  3|United States|Washington, D.C.|\n",
      "|  1|         U.K.|          London|\n",
      "+---+-------------+----------------+\n",
      "\n"
     ]
    }
   ],
   "source": [
    "delta_table.restoreToVersion(3)\n",
    "delta_table_df = delta_table.toDF()\n",
    "delta_table_df.show()"
   ]
  },
  {
   "cell_type": "code",
   "execution_count": 18,
   "id": "1a7ab9c2-7c0a-4120-9631-d5b76c51b2a3",
   "metadata": {},
   "outputs": [
    {
     "name": "stdout",
     "output_type": "stream",
     "text": [
      "+---+---------+---------+\n",
      "| id|  country|  capital|\n",
      "+---+---------+---------+\n",
      "|  4|Australia| Canberra|\n",
      "|  1|    India|New Delhi|\n",
      "+---+---------+---------+\n",
      "\n"
     ]
    }
   ],
   "source": [
    "df = spark.createDataFrame(\n",
    "    [\n",
    "        (1, 'India', 'New Delhi'),\n",
    "        (4, 'Australia', 'Canberra')\n",
    "    ],\n",
    "    schema=[\"id\", \"country\", \"capital\"]\n",
    ")\n",
    "\n",
    "# Write the DataFrame to a Delta table\n",
    "df.write \\\n",
    "    .format(\"delta\") \\\n",
    "    .mode(\"overwrite\") \\\n",
    "    .save(\"./delta-lake/countries\")\n",
    "\n",
    "# Read the Delta table into a DeltaTable object\n",
    "delta_table = DeltaTable.forPath(spark, \"./delta-lake/countries\")\n",
    "\n",
    "# Convert the DeltaTable to a DataFrame and display\n",
    "delta_table_df = delta_table.toDF()\n",
    "delta_table_df.show()"
   ]
  },
  {
   "cell_type": "code",
   "execution_count": 19,
   "id": "c570ccb2-c1c8-4c14-8f67-41e5066f59a6",
   "metadata": {},
   "outputs": [
    {
     "name": "stderr",
     "output_type": "stream",
     "text": [
      "24/11/17 15:24:46 WARN DAGScheduler: Broadcasting large task binary with size 1072.6 KiB\n"
     ]
    },
    {
     "name": "stdout",
     "output_type": "stream",
     "text": [
      "+---+-------------+----------------+\n",
      "| id|      country|         capital|\n",
      "+---+-------------+----------------+\n",
      "|  3|United States|Washington, D.C.|\n",
      "|  4|        India|           New D|\n",
      "|  1|         U.K.|          London|\n",
      "+---+-------------+----------------+\n",
      "\n"
     ]
    }
   ],
   "source": [
    "delta_table.restoreToVersion(3)\n",
    "data = [\n",
    " (4, 'India', 'New D'),\n",
    " ]\n",
    "schema = [\"id\", \"country\", \"capital\"]\n",
    "df = spark.createDataFrame(data, schema=schema)\n",
    "(\n",
    "df\n",
    ".write\n",
    ".format(\"delta\")\n",
    ".mode(\"append\")\n",
    ".save(\"./delta-lake/countries\")\n",
    ")\n",
    "delta_table_df = delta_table.toDF()\n",
    "delta_table_df.show()"
   ]
  },
  {
   "cell_type": "code",
   "execution_count": 20,
   "id": "cba8768c-02e7-403c-8f35-84bfd99b8102",
   "metadata": {},
   "outputs": [
    {
     "name": "stdout",
     "output_type": "stream",
     "text": [
      "+---+-------------+----------------+\n",
      "| id|      country|         capital|\n",
      "+---+-------------+----------------+\n",
      "|  3|United States|Washington, D.C.|\n",
      "|  4|        India|       New Delhi|\n",
      "|  5|    Australia|        Canberra|\n",
      "|  1|         U.K.|          London|\n",
      "+---+-------------+----------------+\n",
      "\n"
     ]
    }
   ],
   "source": [
    "idf = (\n",
    " spark\n",
    " .createDataFrame([\n",
    " (4, 'India', 'New Delhi'),\n",
    " (5, 'Australia', 'Canberra')],\n",
    " schema=[\"id\", \"country\", \"capital\"]\n",
    " )\n",
    " )\n",
    "delta_table.alias(\"target\").merge(\n",
    " source = idf.alias(\"source\"),\n",
    " condition = \"source.id = target.id\"\n",
    " ).whenMatchedUpdate(set =\n",
    " {\n",
    " \"country\": \"source.country\",\n",
    " \"capital\": \"source.capital\"\n",
    " }\n",
    " ).whenNotMatchedInsert(values =\n",
    " {\n",
    " \"id\": \"source.id\",\n",
    " \"country\": \"source.country\",\n",
    " \"capital\": \"source.capital\"\n",
    " }\n",
    " ).execute()\n",
    "\n",
    "delta_table_df = delta_table.toDF()\n",
    "delta_table_df.show()"
   ]
  },
  {
   "cell_type": "code",
   "execution_count": 21,
   "id": "31239065-8bee-4005-9d61-7b6fe4cdeb2d",
   "metadata": {},
   "outputs": [
    {
     "name": "stdout",
     "output_type": "stream",
     "text": [
      "+------+--------------------+--------------------+--------+-----------+----------------+----------------+\n",
      "|format|           createdAt|        lastModified|numFiles|sizeInBytes|minReaderVersion|minWriterVersion|\n",
      "+------+--------------------+--------------------+--------+-----------+----------------+----------------+\n",
      "| delta|2024-11-17 15:23:...|2024-11-17 15:24:...|       3|       3095|               1|               2|\n",
      "+------+--------------------+--------------------+--------+-----------+----------------+----------------+\n",
      "\n"
     ]
    }
   ],
   "source": [
    "delta_table.detail()[\"format\",\"createdAt\",\"lastModified\",\"numFiles\",\"sizeInBytes\",\"minReaderVersion\",\"minWriterVersion\"].show()"
   ]
  },
  {
   "cell_type": "code",
   "execution_count": 22,
   "id": "68b2efb9-77b5-40e9-9aea-9b69ea2c06a3",
   "metadata": {},
   "outputs": [
    {
     "name": "stdout",
     "output_type": "stream",
     "text": [
      "+-------+--------------------+---------+-----------+-------------+\n",
      "|version|           timestamp|operation|readVersion|isBlindAppend|\n",
      "+-------+--------------------+---------+-----------+-------------+\n",
      "|      7|2024-11-17 15:24:...|    MERGE|          6|        false|\n",
      "|      6|2024-11-17 15:24:...|    WRITE|          5|         true|\n",
      "|      5|2024-11-17 15:24:...|  RESTORE|          4|        false|\n",
      "|      4|2024-11-17 15:24:...|    WRITE|          3|        false|\n",
      "|      3|2024-11-17 15:24:...|   DELETE|          2|        false|\n",
      "|      2|2024-11-17 15:23:...|   UPDATE|          1|        false|\n",
      "|      1|2024-11-17 15:23:...|    WRITE|          0|         true|\n",
      "|      0|2024-11-17 15:23:...|    WRITE|       NULL|         true|\n",
      "+-------+--------------------+---------+-----------+-------------+\n",
      "\n"
     ]
    }
   ],
   "source": [
    "fullHistoryDF = delta_table.history()\n",
    "fullHistoryDF[\"version\",\"timestamp\",\"operation\",\"readVersion\",\"isBlindAppend\"].show()"
   ]
  },
  {
   "cell_type": "code",
   "execution_count": 1,
   "id": "0533fb91-b4b7-4bbc-bd35-458997ae0b42",
   "metadata": {},
   "outputs": [],
   "source": [
    "spark.stop()"
   ]
  },
  {
   "cell_type": "code",
   "execution_count": null,
   "id": "3b6484ac-9fbf-458e-8cff-9d89e5947ff7",
   "metadata": {},
   "outputs": [],
   "source": []
  }
 ],
 "metadata": {
  "kernelspec": {
   "display_name": "Python 3 (ipykernel)",
   "language": "python",
   "name": "python3"
  },
  "language_info": {
   "codemirror_mode": {
    "name": "ipython",
    "version": 3
   },
   "file_extension": ".py",
   "mimetype": "text/x-python",
   "name": "python",
   "nbconvert_exporter": "python",
   "pygments_lexer": "ipython3",
   "version": "3.10.12"
  }
 },
 "nbformat": 4,
 "nbformat_minor": 5
}
